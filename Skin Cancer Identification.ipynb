{
 "cells": [
  {
   "cell_type": "code",
   "execution_count": 1,
   "metadata": {},
   "outputs": [],
   "source": [
    "# Dependencies to Visualize the model\n",
    "%matplotlib inline\n",
    "from IPython.display import Image, SVG\n",
    "import matplotlib.pyplot as plt\n",
    "import numpy as np\n",
    "np.random.seed(0)"
   ]
  },
  {
   "cell_type": "code",
   "execution_count": 2,
   "metadata": {},
   "outputs": [
    {
     "name": "stderr",
     "output_type": "stream",
     "text": [
      "2024-04-11 11:05:36.845750: I tensorflow/core/platform/cpu_feature_guard.cc:182] This TensorFlow binary is optimized to use available CPU instructions in performance-critical operations.\n",
      "To enable the following instructions: SSE4.1 SSE4.2 AVX AVX2 AVX512F AVX512_VNNI FMA, in other operations, rebuild TensorFlow with the appropriate compiler flags.\n"
     ]
    }
   ],
   "source": [
    "# Filepaths, pandas, numpy, and Tensorflow\n",
    "import os\n",
    "import pandas as pd\n",
    "import numpy as np\n",
    "import tensorflow as tf"
   ]
  },
  {
   "cell_type": "code",
   "execution_count": 3,
   "metadata": {},
   "outputs": [],
   "source": [
    "# Sklearn scaling\n",
    "from sklearn.preprocessing import MinMaxScaler"
   ]
  },
  {
   "cell_type": "markdown",
   "metadata": {},
   "source": [
    "### Keras Specific Dependencies"
   ]
  },
  {
   "cell_type": "code",
   "execution_count": 4,
   "metadata": {},
   "outputs": [],
   "source": [
    "# Keras\n",
    "from tensorflow import keras\n",
    "from tensorflow.keras.models import Sequential\n",
    "from tensorflow.keras.utils import to_categorical\n",
    "from tensorflow.keras.layers import Dense\n",
    "from tensorflow.keras.datasets import mnist"
   ]
  },
  {
   "cell_type": "markdown",
   "metadata": {},
   "source": [
    "## Loading and Preprocessing our Data"
   ]
  },
  {
   "cell_type": "markdown",
   "metadata": {},
   "source": [
    "### Load the Skin Cancer Image Dataset and Metadata"
   ]
  },
  {
   "cell_type": "code",
   "execution_count": 5,
   "metadata": {},
   "outputs": [
    {
     "name": "stdout",
     "output_type": "stream",
     "text": [
      "Number of images loaded: 10015\n"
     ]
    }
   ],
   "source": [
    "from PIL import Image\n",
    "\n",
    "# Define folder path where images are stored\n",
    "folder_path = \"Resources/Skin Cancer/Skin Cancer\"\n",
    "\n",
    "# Load images\n",
    "def load_images_from_folder(folder_path):\n",
    "    \"\"\"\n",
    "    Load images from all subfolders of a given folder.\n",
    "    \n",
    "    Args:\n",
    "    - folder_path (str): The path to the folder containing the subfolders.\n",
    "    \n",
    "    Returns:\n",
    "    - images (list): A list of tuples, where each tuple contains a filename and its corresponding image.\n",
    "    \"\"\"\n",
    "    images = []\n",
    "    # Iterate over all subfolders and their contents\n",
    "    for root, dirs, files in os.walk(folder_path):\n",
    "        for file in files:\n",
    "            if file.endswith(\".jpg\") or file.endswith(\".jpeg\"):\n",
    "                file_path = os.path.join(root, file)\n",
    "                img = Image.open(file_path)\n",
    "                if img is not None:\n",
    "                    images.append((file, img))  # Storing filename along with the image\n",
    "    return images\n",
    "\n",
    "# Call function to define images\n",
    "images = load_images_from_folder(folder_path)\n",
    "\n",
    "# Check that all 10,015 images were loaded\n",
    "print(\"Number of images loaded:\", len(images))\n"
   ]
  },
  {
   "cell_type": "code",
   "execution_count": 6,
   "metadata": {},
   "outputs": [
    {
     "data": {
      "text/html": [
       "<div>\n",
       "<style scoped>\n",
       "    .dataframe tbody tr th:only-of-type {\n",
       "        vertical-align: middle;\n",
       "    }\n",
       "\n",
       "    .dataframe tbody tr th {\n",
       "        vertical-align: top;\n",
       "    }\n",
       "\n",
       "    .dataframe thead th {\n",
       "        text-align: right;\n",
       "    }\n",
       "</style>\n",
       "<table border=\"1\" class=\"dataframe\">\n",
       "  <thead>\n",
       "    <tr style=\"text-align: right;\">\n",
       "      <th></th>\n",
       "      <th>lesion_id</th>\n",
       "      <th>image_id</th>\n",
       "      <th>dx</th>\n",
       "      <th>dx_type</th>\n",
       "      <th>age</th>\n",
       "      <th>sex</th>\n",
       "      <th>localization</th>\n",
       "    </tr>\n",
       "  </thead>\n",
       "  <tbody>\n",
       "    <tr>\n",
       "      <th>0</th>\n",
       "      <td>HAM_0000118</td>\n",
       "      <td>ISIC_0027419</td>\n",
       "      <td>bkl</td>\n",
       "      <td>histo</td>\n",
       "      <td>80.0</td>\n",
       "      <td>male</td>\n",
       "      <td>scalp</td>\n",
       "    </tr>\n",
       "    <tr>\n",
       "      <th>1</th>\n",
       "      <td>HAM_0000118</td>\n",
       "      <td>ISIC_0025030</td>\n",
       "      <td>bkl</td>\n",
       "      <td>histo</td>\n",
       "      <td>80.0</td>\n",
       "      <td>male</td>\n",
       "      <td>scalp</td>\n",
       "    </tr>\n",
       "    <tr>\n",
       "      <th>2</th>\n",
       "      <td>HAM_0002730</td>\n",
       "      <td>ISIC_0026769</td>\n",
       "      <td>bkl</td>\n",
       "      <td>histo</td>\n",
       "      <td>80.0</td>\n",
       "      <td>male</td>\n",
       "      <td>scalp</td>\n",
       "    </tr>\n",
       "    <tr>\n",
       "      <th>3</th>\n",
       "      <td>HAM_0002730</td>\n",
       "      <td>ISIC_0025661</td>\n",
       "      <td>bkl</td>\n",
       "      <td>histo</td>\n",
       "      <td>80.0</td>\n",
       "      <td>male</td>\n",
       "      <td>scalp</td>\n",
       "    </tr>\n",
       "    <tr>\n",
       "      <th>4</th>\n",
       "      <td>HAM_0001466</td>\n",
       "      <td>ISIC_0031633</td>\n",
       "      <td>bkl</td>\n",
       "      <td>histo</td>\n",
       "      <td>75.0</td>\n",
       "      <td>male</td>\n",
       "      <td>ear</td>\n",
       "    </tr>\n",
       "  </tbody>\n",
       "</table>\n",
       "</div>"
      ],
      "text/plain": [
       "     lesion_id      image_id   dx dx_type   age   sex localization\n",
       "0  HAM_0000118  ISIC_0027419  bkl   histo  80.0  male        scalp\n",
       "1  HAM_0000118  ISIC_0025030  bkl   histo  80.0  male        scalp\n",
       "2  HAM_0002730  ISIC_0026769  bkl   histo  80.0  male        scalp\n",
       "3  HAM_0002730  ISIC_0025661  bkl   histo  80.0  male        scalp\n",
       "4  HAM_0001466  ISIC_0031633  bkl   histo  75.0  male          ear"
      ]
     },
     "execution_count": 6,
     "metadata": {},
     "output_type": "execute_result"
    }
   ],
   "source": [
    "# Define csv file name\n",
    "csv_file = \"Resources/HAM10000_metadata.csv\"\n",
    "\n",
    "# Load metadata csv\n",
    "def load_metadata_from_csv(csv_file):\n",
    "    \"\"\"\n",
    "    Load metadata from a CSV file and return it as a DataFrame.\n",
    "    \n",
    "    Args:\n",
    "    - csv_file (str): The path to the CSV file containing the metadata.\n",
    "    \n",
    "    Returns:\n",
    "    - metadata (DataFrame): A DataFrame containing the metadata read from the CSV file.\n",
    "    \"\"\"\n",
    "    metadata = pd.read_csv(csv_file)\n",
    "    return metadata\n",
    "\n",
    "# Call function to define metadata\n",
    "metadata = load_metadata_from_csv(csv_file)\n",
    "\n",
    "# Preview pandas dataframe to confirm metadata loaded correctly\n",
    "metadata.head()"
   ]
  },
  {
   "cell_type": "code",
   "execution_count": 7,
   "metadata": {},
   "outputs": [
    {
     "name": "stdout",
     "output_type": "stream",
     "text": [
      "Number of matched images and metadata: 10015\n"
     ]
    }
   ],
   "source": [
    "# Match images with metadata based on filenames\n",
    "def match_images_with_metadata(images, metadata):\n",
    "    \"\"\"\n",
    "    Match images with metadata based on filenames.\n",
    "\n",
    "    Args:\n",
    "    - images (list): A list of tuples containing (filename, image).\n",
    "    - metadata (DataFrame): A DataFrame containing metadata.\n",
    "\n",
    "    Returns:\n",
    "    - matched_data (list): A list of tuples containing (filename, image, matched metadata row).\n",
    "    \"\"\"\n",
    "    matched_data = []\n",
    "    for filename, img in images:\n",
    "        # Extract the filename without extension\n",
    "        filename_without_ext = os.path.splitext(filename)[0]\n",
    "        # Find corresponding row in metadata with matching filename\n",
    "        matched_row = metadata.loc[metadata['image_id'] == filename_without_ext]\n",
    "        # If a match is found, store the image and metadata together\n",
    "        if not matched_row.empty:\n",
    "            matched_data.append((filename, img, matched_row))\n",
    "    return matched_data\n",
    "\n",
    "# Call function to define matched_data\n",
    "matched_data = match_images_with_metadata(images, metadata)\n",
    "\n",
    "# Check that all 10,015 images were matched with metadata\n",
    "print(\"Number of matched images and metadata:\", len(matched_data))"
   ]
  },
  {
   "cell_type": "code",
   "execution_count": 8,
   "metadata": {},
   "outputs": [
    {
     "data": {
      "text/html": [
       "<div>\n",
       "<style scoped>\n",
       "    .dataframe tbody tr th:only-of-type {\n",
       "        vertical-align: middle;\n",
       "    }\n",
       "\n",
       "    .dataframe tbody tr th {\n",
       "        vertical-align: top;\n",
       "    }\n",
       "\n",
       "    .dataframe thead th {\n",
       "        text-align: right;\n",
       "    }\n",
       "</style>\n",
       "<table border=\"1\" class=\"dataframe\">\n",
       "  <thead>\n",
       "    <tr style=\"text-align: right;\">\n",
       "      <th></th>\n",
       "      <th>lesion_id</th>\n",
       "      <th>image_id</th>\n",
       "      <th>dx</th>\n",
       "      <th>dx_type</th>\n",
       "      <th>age</th>\n",
       "      <th>sex</th>\n",
       "      <th>localization</th>\n",
       "      <th>Image</th>\n",
       "    </tr>\n",
       "  </thead>\n",
       "  <tbody>\n",
       "    <tr>\n",
       "      <th>0</th>\n",
       "      <td>HAM_0001813</td>\n",
       "      <td>ISIC_0030858</td>\n",
       "      <td>nv</td>\n",
       "      <td>histo</td>\n",
       "      <td>60.0</td>\n",
       "      <td>male</td>\n",
       "      <td>trunk</td>\n",
       "      <td>&lt;PIL.JpegImagePlugin.JpegImageFile image mode=...</td>\n",
       "    </tr>\n",
       "    <tr>\n",
       "      <th>1</th>\n",
       "      <td>HAM_0002381</td>\n",
       "      <td>ISIC_0030680</td>\n",
       "      <td>nv</td>\n",
       "      <td>follow_up</td>\n",
       "      <td>80.0</td>\n",
       "      <td>male</td>\n",
       "      <td>trunk</td>\n",
       "      <td>&lt;PIL.JpegImagePlugin.JpegImageFile image mode=...</td>\n",
       "    </tr>\n",
       "    <tr>\n",
       "      <th>2</th>\n",
       "      <td>HAM_0000268</td>\n",
       "      <td>ISIC_0033389</td>\n",
       "      <td>nv</td>\n",
       "      <td>histo</td>\n",
       "      <td>10.0</td>\n",
       "      <td>female</td>\n",
       "      <td>trunk</td>\n",
       "      <td>&lt;PIL.JpegImagePlugin.JpegImageFile image mode=...</td>\n",
       "    </tr>\n",
       "    <tr>\n",
       "      <th>3</th>\n",
       "      <td>HAM_0003006</td>\n",
       "      <td>ISIC_0032097</td>\n",
       "      <td>nv</td>\n",
       "      <td>follow_up</td>\n",
       "      <td>55.0</td>\n",
       "      <td>male</td>\n",
       "      <td>back</td>\n",
       "      <td>&lt;PIL.JpegImagePlugin.JpegImageFile image mode=...</td>\n",
       "    </tr>\n",
       "    <tr>\n",
       "      <th>4</th>\n",
       "      <td>HAM_0003321</td>\n",
       "      <td>ISIC_0032929</td>\n",
       "      <td>bkl</td>\n",
       "      <td>histo</td>\n",
       "      <td>75.0</td>\n",
       "      <td>female</td>\n",
       "      <td>face</td>\n",
       "      <td>&lt;PIL.JpegImagePlugin.JpegImageFile image mode=...</td>\n",
       "    </tr>\n",
       "  </tbody>\n",
       "</table>\n",
       "</div>"
      ],
      "text/plain": [
       "     lesion_id      image_id   dx    dx_type   age     sex localization  \\\n",
       "0  HAM_0001813  ISIC_0030858   nv      histo  60.0    male        trunk   \n",
       "1  HAM_0002381  ISIC_0030680   nv  follow_up  80.0    male        trunk   \n",
       "2  HAM_0000268  ISIC_0033389   nv      histo  10.0  female        trunk   \n",
       "3  HAM_0003006  ISIC_0032097   nv  follow_up  55.0    male         back   \n",
       "4  HAM_0003321  ISIC_0032929  bkl      histo  75.0  female         face   \n",
       "\n",
       "                                               Image  \n",
       "0  <PIL.JpegImagePlugin.JpegImageFile image mode=...  \n",
       "1  <PIL.JpegImagePlugin.JpegImageFile image mode=...  \n",
       "2  <PIL.JpegImagePlugin.JpegImageFile image mode=...  \n",
       "3  <PIL.JpegImagePlugin.JpegImageFile image mode=...  \n",
       "4  <PIL.JpegImagePlugin.JpegImageFile image mode=...  "
      ]
     },
     "execution_count": 8,
     "metadata": {},
     "output_type": "execute_result"
    }
   ],
   "source": [
    "# Create pandas dataframe of matched_data\n",
    "\n",
    "def create_metadata_image_dataframe(matched_data):\n",
    "    \"\"\"\n",
    "    Create a DataFrame containing metadata with corresponding images.\n",
    "    \n",
    "    Args:\n",
    "    - matched_data (list): A list of tuples containing (filename, image, metadata_row).\n",
    "    \n",
    "    Returns:\n",
    "    - df (DataFrame): A DataFrame where each row corresponds to a matched image and its metadata.\n",
    "    \"\"\"\n",
    "    data = []\n",
    "    for filename, img, metadata_row in matched_data:\n",
    "        metadata_dict = metadata_row.to_dict(orient='records')[0]  # Convert metadata row to dictionary\n",
    "        metadata_dict['Image'] = img  # Add the image to the metadata dictionary\n",
    "        data.append(metadata_dict)\n",
    "    df = pd.DataFrame(data)\n",
    "    return df\n",
    "\n",
    "# Call function to define metadata_image_df\n",
    "metadata_image_df = create_metadata_image_dataframe(matched_data)\n",
    "\n",
    "# Preview dataframe\n",
    "metadata_image_df.head()"
   ]
  }
 ],
 "metadata": {
  "kernelspec": {
   "display_name": "nn",
   "language": "python",
   "name": "python3"
  },
  "language_info": {
   "codemirror_mode": {
    "name": "ipython",
    "version": 3
   },
   "file_extension": ".py",
   "mimetype": "text/x-python",
   "name": "python",
   "nbconvert_exporter": "python",
   "pygments_lexer": "ipython3",
   "version": "3.8.18"
  }
 },
 "nbformat": 4,
 "nbformat_minor": 2
}
