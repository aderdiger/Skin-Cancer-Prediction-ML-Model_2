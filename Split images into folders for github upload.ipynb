{
 "cells": [
  {
   "cell_type": "markdown",
   "metadata": {},
   "source": [
    "## Split Images into Folders for Git Push\n",
    "\n",
    "Our original dataset included 10,015 images in one folder, which was ~3GB. This was too large for a single git push, so we wrote this code to split the images into two folders, which we were able to push to GitHub one at a time. "
   ]
  },
  {
   "cell_type": "code",
   "execution_count": null,
   "metadata": {},
   "outputs": [],
   "source": [
    "import os\n",
    "import shutil\n",
    "\n",
    "source_folder = \"Resources/Skin Cancer/Skin Cancer\"\n",
    "target_folder = \"Resources/Skin Cancer/Split\"\n",
    "files_per_folder = 5100\n",
    "\n",
    "def split_files_into_folders(source_folder, target_folder, files_per_folder):\n",
    "    \"\"\"\n",
    "    Split files from a source folder into multiple folders, each containing a specified number of files.\n",
    "\n",
    "    Args:\n",
    "    - source_folder (str): Path to the source folder containing the files to be split.\n",
    "    - target_folder (str): Path to the target folder where the split folders will be created.\n",
    "    - files_per_folder (int): Number of files to be placed in each split folder.\n",
    "\n",
    "    Returns:\n",
    "    - None\n",
    "    \"\"\"\n",
    "    # Create target folder if it doesn't exist\n",
    "    if not os.path.exists(target_folder):\n",
    "        os.makedirs(target_folder)\n",
    "\n",
    "    # Iterate over files in source folder\n",
    "    files = os.listdir(source_folder)\n",
    "    total_files = len(files)\n",
    "    num_folders = (total_files + files_per_folder - 1) // files_per_folder\n",
    "\n",
    "    # Split files into folders\n",
    "    for i in range(num_folders):\n",
    "        start_index = i * files_per_folder\n",
    "        end_index = min((i + 1) * files_per_folder, total_files)\n",
    "        folder_name = os.path.join(target_folder, f'folder_{i+1}')\n",
    "        os.makedirs(folder_name)\n",
    "\n",
    "        # Copy files to the new folder\n",
    "        for file_name in files[start_index:end_index]:\n",
    "            source_path = os.path.join(source_folder, file_name)\n",
    "            target_path = os.path.join(folder_name, file_name)\n",
    "            shutil.copyfile(source_path, target_path)\n",
    "\n",
    "        print(f\"Created folder '{folder_name}' with {end_index - start_index} files.\")\n",
    "\n",
    "\n",
    "split_files_into_folders(source_folder, target_folder, files_per_folder)"
   ]
  }
 ],
 "metadata": {
  "language_info": {
   "name": "python"
  }
 },
 "nbformat": 4,
 "nbformat_minor": 2
}
